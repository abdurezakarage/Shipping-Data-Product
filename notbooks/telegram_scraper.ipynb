{
 "cells": [
  {
   "cell_type": "code",
   "execution_count": 1,
   "id": "56772bb8",
   "metadata": {},
   "outputs": [
    {
     "ename": "ModuleNotFoundError",
     "evalue": "No module named 'dotenv'",
     "output_type": "error",
     "traceback": [
      "\u001b[31m---------------------------------------------------------------------------\u001b[39m",
      "\u001b[31mModuleNotFoundError\u001b[39m                       Traceback (most recent call last)",
      "\u001b[36mCell\u001b[39m\u001b[36m \u001b[39m\u001b[32mIn[1]\u001b[39m\u001b[32m, line 4\u001b[39m\n\u001b[32m      2\u001b[39m \u001b[38;5;28;01mimport\u001b[39;00m\u001b[38;5;250m \u001b[39m\u001b[34;01mos\u001b[39;00m\n\u001b[32m      3\u001b[39m sys.path.append(\u001b[33m\"\u001b[39m\u001b[33m../src\u001b[39m\u001b[33m\"\u001b[39m)\n\u001b[32m----> \u001b[39m\u001b[32m4\u001b[39m \u001b[38;5;28;01mfrom\u001b[39;00m\u001b[38;5;250m \u001b[39m\u001b[34;01mtelegram_scraper\u001b[39;00m\u001b[38;5;250m \u001b[39m\u001b[38;5;28;01mimport\u001b[39;00m TelegramScraper\n",
      "\u001b[36mFile \u001b[39m\u001b[32md:\\10 AC\\w-7\\w-7 Project\\Shipping-Data-Product\\notbooks\\../src\\telegram_scraper.py:13\u001b[39m\n\u001b[32m     11\u001b[39m \u001b[38;5;28;01mfrom\u001b[39;00m\u001b[38;5;250m \u001b[39m\u001b[34;01mtelethon\u001b[39;00m\u001b[34;01m.\u001b[39;00m\u001b[34;01merrors\u001b[39;00m\u001b[38;5;250m \u001b[39m\u001b[38;5;28;01mimport\u001b[39;00m FloodWaitError, ChannelPrivateError, ChatAdminRequiredError\n\u001b[32m     12\u001b[39m \u001b[38;5;28;01mfrom\u001b[39;00m\u001b[38;5;250m \u001b[39m\u001b[34;01mtelethon\u001b[39;00m\u001b[34;01m.\u001b[39;00m\u001b[34;01mtl\u001b[39;00m\u001b[34;01m.\u001b[39;00m\u001b[34;01mtypes\u001b[39;00m\u001b[38;5;250m \u001b[39m\u001b[38;5;28;01mimport\u001b[39;00m Message, Channel, Chat\n\u001b[32m---> \u001b[39m\u001b[32m13\u001b[39m \u001b[38;5;28;01mfrom\u001b[39;00m\u001b[38;5;250m \u001b[39m\u001b[34;01mdotenv\u001b[39;00m\u001b[38;5;250m \u001b[39m\u001b[38;5;28;01mimport\u001b[39;00m load_dotenv\n\u001b[32m     15\u001b[39m \u001b[38;5;28;01mfrom\u001b[39;00m\u001b[38;5;250m \u001b[39m\u001b[34;01mconfig\u001b[39;00m\u001b[38;5;250m \u001b[39m\u001b[38;5;28;01mimport\u001b[39;00m TELEGRAM_CONFIG, ALL_CHANNELS, DATA_CONFIG, LOGGING_CONFIG\n\u001b[32m     17\u001b[39m \u001b[38;5;66;03m# Load environment variables\u001b[39;00m\n",
      "\u001b[31mModuleNotFoundError\u001b[39m: No module named 'dotenv'"
     ]
    }
   ],
   "source": [
    "\n",
    "import sys\n",
    "import os\n",
    "sys.path.append(\"../src\")\n",
    "from telegram_scraper import TelegramScraper"
   ]
  },
  {
   "cell_type": "code",
   "execution_count": null,
   "id": "8ef76052",
   "metadata": {},
   "outputs": [],
   "source": [
    "scraper = TelegramScraper()"
   ]
  },
  {
   "cell_type": "code",
   "execution_count": null,
   "id": "4bb4274b",
   "metadata": {},
   "outputs": [],
   "source": [
    "scraping_status = scraper.load_scraping_status()\n",
    "print(\"Scraping Status:\", scraping_status)"
   ]
  },
  {
   "cell_type": "code",
   "execution_count": null,
   "id": "3b509c13",
   "metadata": {},
   "outputs": [],
   "source": [
    "test_channel_name = \"@CheMed123\"\n",
    "# Update and save dummy status\n",
    "scraper.scraping_status[\"test_channel_name\"] = {\n",
    "    \"2025-07-12\": {\"message_count\": 10, \"success\": True, \"timestamp\": datetime.now().isoformat()}\n",
    "}\n",
    "scraper.save_scraping_status()\n",
    "print(\"Saved scraping status.\")\n"
   ]
  },
  {
   "cell_type": "code",
   "execution_count": null,
   "id": "d85d4778",
   "metadata": {},
   "outputs": [],
   "source": [
    "scraper.update_channel_status(\"test_channel\", \"2025-07-12\", 5, success=True)\n",
    "print(json.dumps(scraper.scraping_status[\"test_channel\"], indent=2))\n"
   ]
  },
  {
   "cell_type": "code",
   "execution_count": null,
   "id": "7e7d0f2a",
   "metadata": {},
   "outputs": [],
   "source": [
    "# Simulate a media object\n",
    "class DummyMedia:\n",
    "    class Document:\n",
    "        mime_type = \"image/jpeg\"\n",
    "    document = Document()\n",
    "\n",
    "media_ext = scraper.get_media_extension(DummyMedia())\n",
    "print(\"Media Extension:\", media_ext)\n"
   ]
  }
 ],
 "metadata": {
  "kernelspec": {
   "display_name": "Python 3",
   "language": "python",
   "name": "python3"
  },
  "language_info": {
   "codemirror_mode": {
    "name": "ipython",
    "version": 3
   },
   "file_extension": ".py",
   "mimetype": "text/x-python",
   "name": "python",
   "nbconvert_exporter": "python",
   "pygments_lexer": "ipython3",
   "version": "3.13.5"
  }
 },
 "nbformat": 4,
 "nbformat_minor": 5
}
